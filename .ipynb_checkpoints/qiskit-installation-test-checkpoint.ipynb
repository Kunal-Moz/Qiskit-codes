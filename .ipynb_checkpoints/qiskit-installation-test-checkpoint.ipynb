{
 "cells": [
  {
   "cell_type": "code",
   "execution_count": 1,
   "id": "d203a7fe-c19b-4c8b-b796-8fb3cbd115cd",
   "metadata": {},
   "outputs": [],
   "source": [
    "import qiskit"
   ]
  },
  {
   "cell_type": "code",
   "execution_count": 3,
   "id": "2ed2896c-6611-4f2d-b414-fd01e688f51a",
   "metadata": {},
   "outputs": [
    {
     "data": {
      "text/plain": [
       "'1.1.1'"
      ]
     },
     "execution_count": 3,
     "metadata": {},
     "output_type": "execute_result"
    }
   ],
   "source": [
    "qiskit.__version__"
   ]
  },
  {
   "cell_type": "code",
   "execution_count": 7,
   "id": "960a2183-8c64-4f37-b11a-a33a15da2b1f",
   "metadata": {},
   "outputs": [],
   "source": [
    "from qiskit_ibm_runtime import QiskitRuntimeService\n",
    " \n",
    "service = QiskitRuntimeService(channel=\"ibm_quantum\", token=\"8bcf8c09c41ae95cb69aad1214fd7b0a1e3783bf9ab821eb62ead9d0d61c2ba55e0f00187f72719c8bc3e991f8133fa32313fc63c35b8bcc25495445da22ccb3\")\n",
    " "
   ]
  },
  {
   "cell_type": "code",
   "execution_count": 10,
   "id": "6af83d23-88bc-4f6a-ab6c-6307a3ea14b7",
   "metadata": {},
   "outputs": [],
   "source": [
    "# Save an IBM Quantum account and set it as your default account.\n",
    "QiskitRuntimeService.save_account(\n",
    "    channel=\"ibm_quantum\",\n",
    "    token=\"8bcf8c09c41ae95cb69aad1214fd7b0a1e3783bf9ab821eb62ead9d0d61c2ba55e0f00187f72719c8bc3e991f8133fa32313fc63c35b8bcc25495445da22ccb3\",\n",
    "    set_as_default=True,\n",
    "    # # Use `overwrite=True` if you're updating your token.\n",
    "    overwrite=True,\n",
    ")"
   ]
  },
  {
   "cell_type": "code",
   "execution_count": 11,
   "id": "b8a5c949-82dc-4296-a7e2-36c2fedfd611",
   "metadata": {},
   "outputs": [],
   "source": [
    "# Load saved credentials\n",
    "service = QiskitRuntimeService()"
   ]
  },
  {
   "cell_type": "code",
   "execution_count": 13,
   "id": "c5288522-7c67-4a1c-9041-5de41769b7e6",
   "metadata": {},
   "outputs": [
    {
     "name": "stdout",
     "output_type": "stream",
     "text": [
      "job id: ctes23gxgmhg0084vq90\n",
      "PrimitiveResult([PubResult(data=DataBin(meas=BitArray(<shape=(), num_shots=4096, num_bits=2>)), metadata={'circuit_metadata': {}})], metadata={'version': 2})\n"
     ]
    }
   ],
   "source": [
    "from qiskit import QuantumCircuit\n",
    "from qiskit_ibm_runtime import QiskitRuntimeService, SamplerV2 as Sampler\n",
    " \n",
    "# Create empty circuit\n",
    "example_circuit = QuantumCircuit(2)\n",
    "example_circuit.measure_all()\n",
    " \n",
    "# You'll need to specify the credentials when initializing QiskitRuntimeService, if they were not previously saved.\n",
    "service = QiskitRuntimeService()\n",
    "backend = service.least_busy(operational=True, simulator=False)\n",
    " \n",
    "sampler = Sampler(backend)\n",
    "job = sampler.run([example_circuit])\n",
    "print(f\"job id: {job.job_id()}\")\n",
    "result = job.result()\n",
    "print(result)"
   ]
  },
  {
   "cell_type": "code",
   "execution_count": null,
   "id": "7fac4473-b51c-4b19-a240-c09f0f509e6f",
   "metadata": {},
   "outputs": [],
   "source": []
  }
 ],
 "metadata": {
  "kernelspec": {
   "display_name": "Python 3 (ipykernel)",
   "language": "python",
   "name": "python3"
  },
  "language_info": {
   "codemirror_mode": {
    "name": "ipython",
    "version": 3
   },
   "file_extension": ".py",
   "mimetype": "text/x-python",
   "name": "python",
   "nbconvert_exporter": "python",
   "pygments_lexer": "ipython3",
   "version": "3.12.4"
  }
 },
 "nbformat": 4,
 "nbformat_minor": 5
}
